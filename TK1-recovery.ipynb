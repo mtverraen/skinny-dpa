{
 "cells": [
  {
   "cell_type": "code",
   "execution_count": 9,
   "metadata": {},
   "outputs": [],
   "source": [
    "import numpy as np\n",
    "import scipy as sp\n",
    "import matplotlib\n",
    "import matplotlib.pyplot as plt\n",
    "from matplotlib.patches import Rectangle\n",
    "import math\n",
    "import sys\n",
    "\n",
    "import skinny\n",
    "import helpers \n",
    "import dpautils\n",
    "\n",
    "from scipy import stats\n",
    "from array import array\n",
    "from operator import xor\n",
    "\n",
    "np.set_printoptions(threshold=sys.maxsize)"
   ]
  },
  {
   "cell_type": "code",
   "execution_count": 10,
   "metadata": {},
   "outputs": [],
   "source": [
    "N=15\n",
    "std=0.5\n",
    "number_of_experiments=15\n",
    "\n",
    "TK1_0=[0,1,2,3] #Three times the traces\n",
    "TK1_1=[4,5,6,7]\n",
    "TK1_2_unsorted=[0,1,2,3] # Three times the traces\n",
    "Tk1_3_unsorted=[8,9,10,11]\n",
    "\n",
    "keys=np.random.randint(2147483647, 9223372036854775807, size=number_of_experiments, dtype=np.int64)  "
   ]
  },
  {
   "cell_type": "code",
   "execution_count": 11,
   "metadata": {},
   "outputs": [],
   "source": [
    "P=helpers.gen_plaintexts(N)\n",
    "val=dpautils.compute_intemediate_values(P,int(keys[0]))\n",
    "interm_values=val[0]\n",
    "clear_text=val[1]\n",
    "TK1=val[2].A1\n",
    "T = dpautils.gen_traces(interm_values, std)"
   ]
  },
  {
   "cell_type": "markdown",
   "metadata": {},
   "source": [
    "# Attacking TK1_0 (first row of TK1)\n",
    "Three rows of the internal state depend on the same four Tweakey nibbles. Exploiting this by getting \"three traces per trace\""
   ]
  },
  {
   "cell_type": "markdown",
   "metadata": {},
   "source": [
    "## Simultanous attack"
   ]
  },
  {
   "cell_type": "code",
   "execution_count": 12,
   "metadata": {},
   "outputs": [],
   "source": [
    "simultanous_success_rate_pr_n=[]\n",
    "Ns=list(range(1,N,1))\n",
    "for n in Ns:\n",
    "    probs=[]\n",
    "    \n",
    "    for key in keys:\n",
    "        TK1_0_guess=[]\n",
    "        \n",
    "        # Attack TK1 nibble i (first row of TK1)\n",
    "        for i in range(4): \n",
    "            t=T[:n]\n",
    "            ct=clear_text[:n]\n",
    "            nibble_guess=dpautils.simultanous_atk(t,ct,i)\n",
    "            TK1_0_guess.append(nibble_guess)\n",
    "            \n",
    "        #_____SUCCESS/FAIL_________________\n",
    "        if(np.array_equal(TK1[0:4],TK1_0_guess)):\n",
    "            probs.append(1)\n",
    "        else:\n",
    "            probs.append(0)\n",
    "    simultanous_success_rate_pr_n.append(np.average(probs))"
   ]
  },
  {
   "cell_type": "markdown",
   "metadata": {},
   "source": [
    "## Majority Vote"
   ]
  },
  {
   "cell_type": "code",
   "execution_count": 13,
   "metadata": {},
   "outputs": [],
   "source": [
    "majority_vote_success_rate_pr_n=[]\n",
    "Ns=list(range(1,N,1))\n",
    "for n in Ns:\n",
    "    probs=[]\n",
    "    \n",
    "    for key in keys:\n",
    "        TK1_0_guess=[]\n",
    "        \n",
    "        # Attack TK1 nibble i (first row of TK1)\n",
    "        for i in range(4): \n",
    "            t=T[:n]\n",
    "            ct=clear_text[:n]\n",
    "            nibble_guess=dpautils.majority_vote_atk(t,ct,i)\n",
    "            TK1_0_guess.append(nibble_guess)\n",
    "            \n",
    "        #_____SUCCESS/FAIL_________________\n",
    "        if(np.array_equal(TK1[0:4],TK1_0_guess)):\n",
    "            probs.append(1)\n",
    "        else:\n",
    "            probs.append(0)\n",
    "    majority_vote_success_rate_pr_n.append(np.average(probs))"
   ]
  },
  {
   "cell_type": "markdown",
   "metadata": {},
   "source": [
    "## unanimous attack"
   ]
  },
  {
   "cell_type": "code",
   "execution_count": 14,
   "metadata": {},
   "outputs": [],
   "source": [
    "unanimous_success_rate_pr_n=[]\n",
    "Ns=list(range(1,N,1))\n",
    "for n in Ns:\n",
    "    probs=[]\n",
    "    \n",
    "    for key in keys:\n",
    "        TK1_0_guess=[]\n",
    "        \n",
    "        # Attack TK1 nibble i (first row of TK1)\n",
    "        for i in range(4): \n",
    "            t=T[:n]\n",
    "            ct=clear_text[:n]\n",
    "            nibble_guess=dpautils.unanimous_attack(t,ct,i)\n",
    "            TK1_0_guess.append(nibble_guess)\n",
    "            \n",
    "        #_____SUCCESS/FAIL_________________\n",
    "        if(np.array_equal(TK1[0:4],TK1_0_guess)):\n",
    "            probs.append(1)\n",
    "        else:\n",
    "            probs.append(0)\n",
    "    unanimous_success_rate_pr_n.append(np.average(probs))"
   ]
  },
  {
   "cell_type": "markdown",
   "metadata": {},
   "source": [
    "## Individual attack"
   ]
  },
  {
   "cell_type": "code",
   "execution_count": null,
   "metadata": {},
   "outputs": [],
   "source": [
    "individual_attack_success_rate_pr_n=[]\n",
    "Ns=list(range(1,N,1))\n",
    "for n in Ns:\n",
    "    probs=[]\n",
    "    \n",
    "    for key in keys:\n",
    "        TK1_0_guess=[]\n",
    "        \n",
    "        # Attack TK1 nibble i (first row of TK1)\n",
    "        for i in range(4): \n",
    "            t=T[:n]\n",
    "            ct=clear_text[:n]\n",
    "            nibble_guess=dpautils.individual_atk(t,ct,i)\n",
    "            TK1_0_guess.append(nibble_guess)\n",
    "            \n",
    "        #_____SUCCESS/FAIL_________________\n",
    "        if(np.array_equal(TK1[0:4],TK1_0_guess)):\n",
    "            probs.append(1)\n",
    "        else:\n",
    "            probs.append(0)\n",
    "    individual_attack_success_rate_pr_n.append(np.average(probs))"
   ]
  },
  {
   "cell_type": "code",
   "execution_count": null,
   "metadata": {},
   "outputs": [],
   "source": [
    "\n",
    "outfile=\"TK1-10-recovery-rate-std-\"+str(std)+\".png\"\n",
    "\n",
    "helpers.plot_multiple_attacks(simultanous_success_rate_pr_n, majority_vote_success_rate_pr_n, \n",
    "                 unanimous_success_rate_pr_n, individual_attack_success_rate_pr_n,\n",
    "                 \"simultanous\",\"majority vote\",\n",
    "                 \"unanimous\",\"individual\",\n",
    "                outfile)\n",
    "    "
   ]
  },
  {
   "cell_type": "markdown",
   "metadata": {},
   "source": [
    "# Recover second row of TK1\n",
    "\n",
    "As only a single row of the internal state depend on TK1_1, only individual attack is usable"
   ]
  },
  {
   "cell_type": "code",
   "execution_count": null,
   "metadata": {},
   "outputs": [],
   "source": [
    "individual_attack_success_rate_pr_n=[]\n",
    "Ns=list(range(1,N,1))\n",
    "for n in Ns:\n",
    "    probs=[]\n",
    "    \n",
    "    for key in keys:\n",
    "        TK1_0_guess=[]\n",
    "        \n",
    "        # Attack TK1 nibble i (first row of TK1)\n",
    "        for i in range(5,9,1): \n",
    "            t=T[:n]\n",
    "            ct=clear_text[:n]\n",
    "            nibble_guess=dpautils.individual_atk(t,ct,i)\n",
    "            TK1_0_guess.append(nibble_guess)\n",
    "            \n",
    "        #_____SUCCESS/FAIL_________________\n",
    "        if(np.array_equal(TK1[0:4],TK1_0_guess)):\n",
    "            probs.append(1)\n",
    "        else:\n",
    "            probs.append(0)\n",
    "    individual_attack_success_rate_pr_n.append(np.average(probs))"
   ]
  }
 ],
 "metadata": {
  "kernelspec": {
   "display_name": "Python 3",
   "language": "python",
   "name": "python3"
  },
  "language_info": {
   "codemirror_mode": {
    "name": "ipython",
    "version": 3
   },
   "file_extension": ".py",
   "mimetype": "text/x-python",
   "name": "python",
   "nbconvert_exporter": "python",
   "pygments_lexer": "ipython3",
   "version": "3.8.4"
  }
 },
 "nbformat": 4,
 "nbformat_minor": 4
}
